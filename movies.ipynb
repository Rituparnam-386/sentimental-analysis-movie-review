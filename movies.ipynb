{
 "cells": [
  {
   "cell_type": "code",
   "execution_count": 1,
   "metadata": {},
   "outputs": [],
   "source": [
    "text = [\"London Paris London\",\"Paris Paris London\"]"
   ]
  },
  {
   "cell_type": "code",
   "execution_count": 3,
   "metadata": {},
   "outputs": [],
   "source": [
    "from sklearn.feature_extraction.text import CountVectorizer\n",
    "cv = CountVectorizer()\n",
    "count_matrix = cv.fit_transform(text)"
   ]
  },
  {
   "cell_type": "code",
   "execution_count": 4,
   "metadata": {},
   "outputs": [
    {
     "name": "stdout",
     "output_type": "stream",
     "text": [
      "['london', 'paris']\n",
      "[[2 1]\n",
      " [1 2]]\n"
     ]
    }
   ],
   "source": [
    "print(cv.get_feature_names())\n",
    "print(count_matrix.toarray())"
   ]
  },
  {
   "cell_type": "code",
   "execution_count": 5,
   "metadata": {},
   "outputs": [
    {
     "name": "stdout",
     "output_type": "stream",
     "text": [
      "[[1.  0.8]\n",
      " [0.8 1. ]]\n"
     ]
    }
   ],
   "source": [
    "from sklearn.metrics.pairwise import cosine_similarity\n",
    "similarity_scores = cosine_similarity(count_matrix)\n",
    "print(similarity_scores)"
   ]
  },
  {
   "cell_type": "code",
   "execution_count": 104,
   "metadata": {},
   "outputs": [],
   "source": [
    "import pandas as pd\n",
    "import numpy as np\n",
    "from sklearn.feature_extraction.text import CountVectorizer\n",
    "from sklearn.metrics.pairwise import cosine_similarity"
   ]
  },
  {
   "cell_type": "code",
   "execution_count": 105,
   "metadata": {},
   "outputs": [],
   "source": [
    "movies_filepath = \"G:\\movie_dataset.csv\"\n",
    "movies_data = pd.read_csv(movies_filepath, index_col=\"popularity\", parse_dates=True)"
   ]
  },
  {
   "cell_type": "code",
   "execution_count": 106,
   "metadata": {},
   "outputs": [],
   "source": [
    "features = ['keywords','cast','genres','director']"
   ]
  },
  {
   "cell_type": "code",
   "execution_count": 108,
   "metadata": {},
   "outputs": [],
   "source": [
    "def combine_features(row):\n",
    "    return row['keywords']+\" \"+row['cast']+\" \"+row['genres']+\" \"+row['director']"
   ]
  },
  {
   "cell_type": "code",
   "execution_count": 109,
   "metadata": {},
   "outputs": [],
   "source": [
    "for feature in features:\n",
    "    movies_data[feature] = movies_data[feature].fillna('') #filling all NaNs with blank string\n",
    "movies_data[\"combined_features\"] = movies_data.apply(combine_features,axis=1)"
   ]
  },
  {
   "cell_type": "code",
   "execution_count": 110,
   "metadata": {},
   "outputs": [
    {
     "data": {
      "text/plain": [
       "'culture clash future space war space colony society Sam Worthington Zoe Saldana Sigourney Weaver Stephen Lang Michelle Rodriguez Action Adventure Fantasy Science Fiction James Cameron'"
      ]
     },
     "execution_count": 110,
     "metadata": {},
     "output_type": "execute_result"
    }
   ],
   "source": [
    "movies_data.iloc[0].combined_features"
   ]
  },
  {
   "cell_type": "code",
   "execution_count": 111,
   "metadata": {},
   "outputs": [],
   "source": [
    "cv = CountVectorizer() #creating new CountVectorizer() object\n",
    "count_matrix = cv.fit_transform(movies_data[\"combined_features\"]) #feeding combined strings(movie contents) to CountVectorizer() object"
   ]
  },
  {
   "cell_type": "code",
   "execution_count": 112,
   "metadata": {},
   "outputs": [],
   "source": [
    "cosine_sim = cosine_similarity(count_matrix)"
   ]
  },
  {
   "cell_type": "code",
   "execution_count": 121,
   "metadata": {},
   "outputs": [],
   "source": [
    "def get_title_from_index(index):\n",
    "    return movies_data[movies_data.index == index][\"title\"].values(0)\n",
    "def get_index_from_title(title):\n",
    "    return movies_data[movies_data.title == title][\"index\"].values(0)"
   ]
  },
  {
   "cell_type": "code",
   "execution_count": 123,
   "metadata": {},
   "outputs": [
    {
     "ename": "TypeError",
     "evalue": "'numpy.ndarray' object is not callable",
     "output_type": "error",
     "traceback": [
      "\u001b[1;31m---------------------------------------------------------------------------\u001b[0m",
      "\u001b[1;31mTypeError\u001b[0m                                 Traceback (most recent call last)",
      "\u001b[1;32m<ipython-input-123-8ff16c9d5ffa>\u001b[0m in \u001b[0;36m<module>\u001b[1;34m\u001b[0m\n\u001b[0;32m      1\u001b[0m \u001b[0mmovie_user_likes\u001b[0m \u001b[1;33m=\u001b[0m \u001b[1;34m\"Avatar\"\u001b[0m\u001b[1;33m\u001b[0m\u001b[0m\n\u001b[1;32m----> 2\u001b[1;33m \u001b[0mmovie_index\u001b[0m \u001b[1;33m=\u001b[0m \u001b[0mget_index_from_title\u001b[0m\u001b[1;33m(\u001b[0m\u001b[0mmovie_user_likes\u001b[0m\u001b[1;33m)\u001b[0m\u001b[1;33m\u001b[0m\u001b[0m\n\u001b[0m\u001b[0;32m      3\u001b[0m \u001b[0msimilar_movies\u001b[0m \u001b[1;33m=\u001b[0m \u001b[0mlist\u001b[0m\u001b[1;33m(\u001b[0m\u001b[0menumerate\u001b[0m\u001b[1;33m(\u001b[0m\u001b[0mcosine_sim\u001b[0m\u001b[1;33m[\u001b[0m\u001b[0mmovie_index\u001b[0m\u001b[1;33m]\u001b[0m\u001b[1;33m)\u001b[0m\u001b[1;33m)\u001b[0m\u001b[1;33m\u001b[0m\u001b[0m\n",
      "\u001b[1;32m<ipython-input-121-b6c6ac01bf10>\u001b[0m in \u001b[0;36mget_index_from_title\u001b[1;34m(title)\u001b[0m\n\u001b[0;32m      2\u001b[0m     \u001b[1;32mreturn\u001b[0m \u001b[0mmovies_data\u001b[0m\u001b[1;33m[\u001b[0m\u001b[0mmovies_data\u001b[0m\u001b[1;33m.\u001b[0m\u001b[0mindex\u001b[0m \u001b[1;33m==\u001b[0m \u001b[0mindex\u001b[0m\u001b[1;33m]\u001b[0m\u001b[1;33m[\u001b[0m\u001b[1;34m\"title\"\u001b[0m\u001b[1;33m]\u001b[0m\u001b[1;33m.\u001b[0m\u001b[0mvalues\u001b[0m\u001b[1;33m(\u001b[0m\u001b[1;36m0\u001b[0m\u001b[1;33m)\u001b[0m\u001b[1;33m\u001b[0m\u001b[0m\n\u001b[0;32m      3\u001b[0m \u001b[1;32mdef\u001b[0m \u001b[0mget_index_from_title\u001b[0m\u001b[1;33m(\u001b[0m\u001b[0mtitle\u001b[0m\u001b[1;33m)\u001b[0m\u001b[1;33m:\u001b[0m\u001b[1;33m\u001b[0m\u001b[0m\n\u001b[1;32m----> 4\u001b[1;33m     \u001b[1;32mreturn\u001b[0m \u001b[0mmovies_data\u001b[0m\u001b[1;33m[\u001b[0m\u001b[0mmovies_data\u001b[0m\u001b[1;33m.\u001b[0m\u001b[0mtitle\u001b[0m \u001b[1;33m==\u001b[0m \u001b[0mtitle\u001b[0m\u001b[1;33m]\u001b[0m\u001b[1;33m[\u001b[0m\u001b[1;34m\"index\"\u001b[0m\u001b[1;33m]\u001b[0m\u001b[1;33m.\u001b[0m\u001b[0mvalues\u001b[0m\u001b[1;33m(\u001b[0m\u001b[1;36m0\u001b[0m\u001b[1;33m)\u001b[0m\u001b[1;33m\u001b[0m\u001b[0m\n\u001b[0m",
      "\u001b[1;31mTypeError\u001b[0m: 'numpy.ndarray' object is not callable"
     ]
    }
   ],
   "source": [
    "movie_user_likes = \"Avatar\"\n",
    "movie_index = get_index_from_title(movie_user_likes)\n",
    "similar_movies = list(enumerate(cosine_sim[movie_index]))"
   ]
  },
  {
   "cell_type": "code",
   "execution_count": 115,
   "metadata": {},
   "outputs": [],
   "source": [
    "sorted_similar_movies = sorted(similar_movies,key=lambda x:x[1],reverse=True)[1:]"
   ]
  },
  {
   "cell_type": "code",
   "execution_count": 116,
   "metadata": {},
   "outputs": [
    {
     "name": "stdout",
     "output_type": "stream",
     "text": [
      "Top 5 similar movies to Avatar are:\n",
      "\n"
     ]
    }
   ],
   "source": [
    "\n",
    "print(\"Top 5 similar movies to \"+movie_user_likes+\" are:\\n\")\n",
    "for movie in sorted_similar_movies:\n",
    "        i = 0\n",
    "        i=i+1\n",
    "        if i>5:\n",
    "            break\n",
    "        get_title_from_index(movie[0])\n",
    "            \n",
    "    "
   ]
  },
  {
   "cell_type": "code",
   "execution_count": 117,
   "metadata": {},
   "outputs": [],
   "source": [
    "def get_recommendations(title):\n",
    "    movie_indices = [i[0] for i in sorted_similar_movies]\n",
    "    return get_title_from_index(movie_indices)"
   ]
  },
  {
   "cell_type": "code",
   "execution_count": 118,
   "metadata": {},
   "outputs": [
    {
     "ename": "TypeError",
     "evalue": "'numpy.ndarray' object is not callable",
     "output_type": "error",
     "traceback": [
      "\u001b[1;31m---------------------------------------------------------------------------\u001b[0m",
      "\u001b[1;31mTypeError\u001b[0m                                 Traceback (most recent call last)",
      "\u001b[1;32m<ipython-input-118-512c9a36c052>\u001b[0m in \u001b[0;36m<module>\u001b[1;34m\u001b[0m\n\u001b[1;32m----> 1\u001b[1;33m \u001b[0mget_recommendations\u001b[0m\u001b[1;33m(\u001b[0m\u001b[1;34m'The Godfather'\u001b[0m\u001b[1;33m)\u001b[0m\u001b[1;33m.\u001b[0m\u001b[0mhead\u001b[0m\u001b[1;33m(\u001b[0m\u001b[1;36m4\u001b[0m\u001b[1;33m)\u001b[0m\u001b[1;33m\u001b[0m\u001b[0m\n\u001b[0m",
      "\u001b[1;32m<ipython-input-117-a007e74fd0cb>\u001b[0m in \u001b[0;36mget_recommendations\u001b[1;34m(title)\u001b[0m\n\u001b[0;32m      1\u001b[0m \u001b[1;32mdef\u001b[0m \u001b[0mget_recommendations\u001b[0m\u001b[1;33m(\u001b[0m\u001b[0mtitle\u001b[0m\u001b[1;33m)\u001b[0m\u001b[1;33m:\u001b[0m\u001b[1;33m\u001b[0m\u001b[0m\n\u001b[0;32m      2\u001b[0m     \u001b[0mmovie_indices\u001b[0m \u001b[1;33m=\u001b[0m \u001b[1;33m[\u001b[0m\u001b[0mi\u001b[0m\u001b[1;33m[\u001b[0m\u001b[1;36m0\u001b[0m\u001b[1;33m]\u001b[0m \u001b[1;32mfor\u001b[0m \u001b[0mi\u001b[0m \u001b[1;32min\u001b[0m \u001b[0msorted_similar_movies\u001b[0m\u001b[1;33m]\u001b[0m\u001b[1;33m\u001b[0m\u001b[0m\n\u001b[1;32m----> 3\u001b[1;33m     \u001b[1;32mreturn\u001b[0m \u001b[0mget_title_from_index\u001b[0m\u001b[1;33m(\u001b[0m\u001b[0mmovie_indices\u001b[0m\u001b[1;33m)\u001b[0m\u001b[1;33m\u001b[0m\u001b[0m\n\u001b[0m",
      "\u001b[1;32m<ipython-input-113-b6c6ac01bf10>\u001b[0m in \u001b[0;36mget_title_from_index\u001b[1;34m(index)\u001b[0m\n\u001b[0;32m      1\u001b[0m \u001b[1;32mdef\u001b[0m \u001b[0mget_title_from_index\u001b[0m\u001b[1;33m(\u001b[0m\u001b[0mindex\u001b[0m\u001b[1;33m)\u001b[0m\u001b[1;33m:\u001b[0m\u001b[1;33m\u001b[0m\u001b[0m\n\u001b[1;32m----> 2\u001b[1;33m     \u001b[1;32mreturn\u001b[0m \u001b[0mmovies_data\u001b[0m\u001b[1;33m[\u001b[0m\u001b[0mmovies_data\u001b[0m\u001b[1;33m.\u001b[0m\u001b[0mindex\u001b[0m \u001b[1;33m==\u001b[0m \u001b[0mindex\u001b[0m\u001b[1;33m]\u001b[0m\u001b[1;33m[\u001b[0m\u001b[1;34m\"title\"\u001b[0m\u001b[1;33m]\u001b[0m\u001b[1;33m.\u001b[0m\u001b[0mvalues\u001b[0m\u001b[1;33m(\u001b[0m\u001b[1;36m0\u001b[0m\u001b[1;33m)\u001b[0m\u001b[1;33m\u001b[0m\u001b[0m\n\u001b[0m\u001b[0;32m      3\u001b[0m \u001b[1;32mdef\u001b[0m \u001b[0mget_index_from_title\u001b[0m\u001b[1;33m(\u001b[0m\u001b[0mtitle\u001b[0m\u001b[1;33m)\u001b[0m\u001b[1;33m:\u001b[0m\u001b[1;33m\u001b[0m\u001b[0m\n\u001b[0;32m      4\u001b[0m     \u001b[1;32mreturn\u001b[0m \u001b[0mmovies_data\u001b[0m\u001b[1;33m[\u001b[0m\u001b[0mmovies_data\u001b[0m\u001b[1;33m.\u001b[0m\u001b[0mtitle\u001b[0m \u001b[1;33m==\u001b[0m \u001b[0mtitle\u001b[0m\u001b[1;33m]\u001b[0m\u001b[1;33m[\u001b[0m\u001b[1;34m\"index\"\u001b[0m\u001b[1;33m]\u001b[0m\u001b[1;33m.\u001b[0m\u001b[0mvalues\u001b[0m\u001b[1;33m(\u001b[0m\u001b[1;36m0\u001b[0m\u001b[1;33m)\u001b[0m\u001b[1;33m\u001b[0m\u001b[0m\n",
      "\u001b[1;31mTypeError\u001b[0m: 'numpy.ndarray' object is not callable"
     ]
    }
   ],
   "source": [
    "get_recommendations('The Godfather').head(4)"
   ]
  },
  {
   "cell_type": "code",
   "execution_count": 72,
   "metadata": {},
   "outputs": [
    {
     "ename": "SyntaxError",
     "evalue": "invalid syntax (<ipython-input-72-1a82432b1d36>, line 4)",
     "output_type": "error",
     "traceback": [
      "\u001b[1;36m  File \u001b[1;32m\"<ipython-input-72-1a82432b1d36>\"\u001b[1;36m, line \u001b[1;32m4\u001b[0m\n\u001b[1;33m    print get_title_from_index(element[0])\u001b[0m\n\u001b[1;37m                             ^\u001b[0m\n\u001b[1;31mSyntaxError\u001b[0m\u001b[1;31m:\u001b[0m invalid syntax\n"
     ]
    }
   ],
   "source": [
    "i=0\n",
    "print(\"Top 5 similar movies to \"+movie_user_likes+\" are:\\n\")\n",
    "for element in sorted_similar_movies:\n",
    "    print get_title_from_index(element[0])\n",
    "    i=i+1\n",
    "    if i>5:\n",
    "        break:\n",
    "      "
   ]
  },
  {
   "cell_type": "code",
   "execution_count": 53,
   "metadata": {},
   "outputs": [
    {
     "data": {
      "text/html": [
       "<div>\n",
       "<style scoped>\n",
       "    .dataframe tbody tr th:only-of-type {\n",
       "        vertical-align: middle;\n",
       "    }\n",
       "\n",
       "    .dataframe tbody tr th {\n",
       "        vertical-align: top;\n",
       "    }\n",
       "\n",
       "    .dataframe thead th {\n",
       "        text-align: right;\n",
       "    }\n",
       "</style>\n",
       "<table border=\"1\" class=\"dataframe\">\n",
       "  <thead>\n",
       "    <tr style=\"text-align: right;\">\n",
       "      <th></th>\n",
       "      <th>index</th>\n",
       "      <th>budget</th>\n",
       "      <th>genres</th>\n",
       "      <th>homepage</th>\n",
       "      <th>id</th>\n",
       "      <th>keywords</th>\n",
       "      <th>original_language</th>\n",
       "      <th>original_title</th>\n",
       "      <th>overview</th>\n",
       "      <th>production_companies</th>\n",
       "      <th>...</th>\n",
       "      <th>spoken_languages</th>\n",
       "      <th>status</th>\n",
       "      <th>tagline</th>\n",
       "      <th>title</th>\n",
       "      <th>vote_average</th>\n",
       "      <th>vote_count</th>\n",
       "      <th>cast</th>\n",
       "      <th>crew</th>\n",
       "      <th>director</th>\n",
       "      <th>combined_features</th>\n",
       "    </tr>\n",
       "    <tr>\n",
       "      <th>popularity</th>\n",
       "      <th></th>\n",
       "      <th></th>\n",
       "      <th></th>\n",
       "      <th></th>\n",
       "      <th></th>\n",
       "      <th></th>\n",
       "      <th></th>\n",
       "      <th></th>\n",
       "      <th></th>\n",
       "      <th></th>\n",
       "      <th></th>\n",
       "      <th></th>\n",
       "      <th></th>\n",
       "      <th></th>\n",
       "      <th></th>\n",
       "      <th></th>\n",
       "      <th></th>\n",
       "      <th></th>\n",
       "      <th></th>\n",
       "      <th></th>\n",
       "      <th></th>\n",
       "    </tr>\n",
       "  </thead>\n",
       "  <tbody>\n",
       "    <tr>\n",
       "      <th>150.437577</th>\n",
       "      <td>0</td>\n",
       "      <td>237000000</td>\n",
       "      <td>Action Adventure Fantasy Science Fiction</td>\n",
       "      <td>http://www.avatarmovie.com/</td>\n",
       "      <td>19995</td>\n",
       "      <td>culture clash future space war space colony so...</td>\n",
       "      <td>en</td>\n",
       "      <td>Avatar</td>\n",
       "      <td>In the 22nd century, a paraplegic Marine is di...</td>\n",
       "      <td>[{\"name\": \"Ingenious Film Partners\", \"id\": 289...</td>\n",
       "      <td>...</td>\n",
       "      <td>[{\"iso_639_1\": \"en\", \"name\": \"English\"}, {\"iso...</td>\n",
       "      <td>Released</td>\n",
       "      <td>Enter the World of Pandora.</td>\n",
       "      <td>Avatar</td>\n",
       "      <td>7.2</td>\n",
       "      <td>11800</td>\n",
       "      <td>Sam Worthington Zoe Saldana Sigourney Weaver S...</td>\n",
       "      <td>[{'name': 'Stephen E. Rivkin', 'gender': 0, 'd...</td>\n",
       "      <td>James Cameron</td>\n",
       "      <td>culture clash future space war space colony so...</td>\n",
       "    </tr>\n",
       "    <tr>\n",
       "      <th>139.082615</th>\n",
       "      <td>1</td>\n",
       "      <td>300000000</td>\n",
       "      <td>Adventure Fantasy Action</td>\n",
       "      <td>http://disney.go.com/disneypictures/pirates/</td>\n",
       "      <td>285</td>\n",
       "      <td>ocean drug abuse exotic island east india trad...</td>\n",
       "      <td>en</td>\n",
       "      <td>Pirates of the Caribbean: At World's End</td>\n",
       "      <td>Captain Barbossa, long believed to be dead, ha...</td>\n",
       "      <td>[{\"name\": \"Walt Disney Pictures\", \"id\": 2}, {\"...</td>\n",
       "      <td>...</td>\n",
       "      <td>[{\"iso_639_1\": \"en\", \"name\": \"English\"}]</td>\n",
       "      <td>Released</td>\n",
       "      <td>At the end of the world, the adventure begins.</td>\n",
       "      <td>Pirates of the Caribbean: At World's End</td>\n",
       "      <td>6.9</td>\n",
       "      <td>4500</td>\n",
       "      <td>Johnny Depp Orlando Bloom Keira Knightley Stel...</td>\n",
       "      <td>[{'name': 'Dariusz Wolski', 'gender': 2, 'depa...</td>\n",
       "      <td>Gore Verbinski</td>\n",
       "      <td>ocean drug abuse exotic island east india trad...</td>\n",
       "    </tr>\n",
       "    <tr>\n",
       "      <th>107.376788</th>\n",
       "      <td>2</td>\n",
       "      <td>245000000</td>\n",
       "      <td>Action Adventure Crime</td>\n",
       "      <td>http://www.sonypictures.com/movies/spectre/</td>\n",
       "      <td>206647</td>\n",
       "      <td>spy based on novel secret agent sequel mi6</td>\n",
       "      <td>en</td>\n",
       "      <td>Spectre</td>\n",
       "      <td>A cryptic message from Bond’s past sends him o...</td>\n",
       "      <td>[{\"name\": \"Columbia Pictures\", \"id\": 5}, {\"nam...</td>\n",
       "      <td>...</td>\n",
       "      <td>[{\"iso_639_1\": \"fr\", \"name\": \"Fran\\u00e7ais\"},...</td>\n",
       "      <td>Released</td>\n",
       "      <td>A Plan No One Escapes</td>\n",
       "      <td>Spectre</td>\n",
       "      <td>6.3</td>\n",
       "      <td>4466</td>\n",
       "      <td>Daniel Craig Christoph Waltz L\\u00e9a Seydoux ...</td>\n",
       "      <td>[{'name': 'Thomas Newman', 'gender': 2, 'depar...</td>\n",
       "      <td>Sam Mendes</td>\n",
       "      <td>spy based on novel secret agent sequel mi6 Dan...</td>\n",
       "    </tr>\n",
       "  </tbody>\n",
       "</table>\n",
       "<p>3 rows × 24 columns</p>\n",
       "</div>"
      ],
      "text/plain": [
       "            index     budget                                    genres  \\\n",
       "popularity                                                               \n",
       "150.437577      0  237000000  Action Adventure Fantasy Science Fiction   \n",
       "139.082615      1  300000000                  Adventure Fantasy Action   \n",
       "107.376788      2  245000000                    Action Adventure Crime   \n",
       "\n",
       "                                                homepage      id  \\\n",
       "popularity                                                         \n",
       "150.437577                   http://www.avatarmovie.com/   19995   \n",
       "139.082615  http://disney.go.com/disneypictures/pirates/     285   \n",
       "107.376788   http://www.sonypictures.com/movies/spectre/  206647   \n",
       "\n",
       "                                                     keywords  \\\n",
       "popularity                                                      \n",
       "150.437577  culture clash future space war space colony so...   \n",
       "139.082615  ocean drug abuse exotic island east india trad...   \n",
       "107.376788         spy based on novel secret agent sequel mi6   \n",
       "\n",
       "           original_language                            original_title  \\\n",
       "popularity                                                               \n",
       "150.437577                en                                    Avatar   \n",
       "139.082615                en  Pirates of the Caribbean: At World's End   \n",
       "107.376788                en                                   Spectre   \n",
       "\n",
       "                                                     overview  \\\n",
       "popularity                                                      \n",
       "150.437577  In the 22nd century, a paraplegic Marine is di...   \n",
       "139.082615  Captain Barbossa, long believed to be dead, ha...   \n",
       "107.376788  A cryptic message from Bond’s past sends him o...   \n",
       "\n",
       "                                         production_companies  ...  \\\n",
       "popularity                                                     ...   \n",
       "150.437577  [{\"name\": \"Ingenious Film Partners\", \"id\": 289...  ...   \n",
       "139.082615  [{\"name\": \"Walt Disney Pictures\", \"id\": 2}, {\"...  ...   \n",
       "107.376788  [{\"name\": \"Columbia Pictures\", \"id\": 5}, {\"nam...  ...   \n",
       "\n",
       "                                             spoken_languages    status  \\\n",
       "popularity                                                                \n",
       "150.437577  [{\"iso_639_1\": \"en\", \"name\": \"English\"}, {\"iso...  Released   \n",
       "139.082615           [{\"iso_639_1\": \"en\", \"name\": \"English\"}]  Released   \n",
       "107.376788  [{\"iso_639_1\": \"fr\", \"name\": \"Fran\\u00e7ais\"},...  Released   \n",
       "\n",
       "                                                   tagline  \\\n",
       "popularity                                                   \n",
       "150.437577                     Enter the World of Pandora.   \n",
       "139.082615  At the end of the world, the adventure begins.   \n",
       "107.376788                           A Plan No One Escapes   \n",
       "\n",
       "                                               title vote_average vote_count  \\\n",
       "popularity                                                                     \n",
       "150.437577                                    Avatar          7.2      11800   \n",
       "139.082615  Pirates of the Caribbean: At World's End          6.9       4500   \n",
       "107.376788                                   Spectre          6.3       4466   \n",
       "\n",
       "                                                         cast  \\\n",
       "popularity                                                      \n",
       "150.437577  Sam Worthington Zoe Saldana Sigourney Weaver S...   \n",
       "139.082615  Johnny Depp Orlando Bloom Keira Knightley Stel...   \n",
       "107.376788  Daniel Craig Christoph Waltz L\\u00e9a Seydoux ...   \n",
       "\n",
       "                                                         crew        director  \\\n",
       "popularity                                                                      \n",
       "150.437577  [{'name': 'Stephen E. Rivkin', 'gender': 0, 'd...   James Cameron   \n",
       "139.082615  [{'name': 'Dariusz Wolski', 'gender': 2, 'depa...  Gore Verbinski   \n",
       "107.376788  [{'name': 'Thomas Newman', 'gender': 2, 'depar...      Sam Mendes   \n",
       "\n",
       "                                            combined_features  \n",
       "popularity                                                     \n",
       "150.437577  culture clash future space war space colony so...  \n",
       "139.082615  ocean drug abuse exotic island east india trad...  \n",
       "107.376788  spy based on novel secret agent sequel mi6 Dan...  \n",
       "\n",
       "[3 rows x 24 columns]"
      ]
     },
     "execution_count": 53,
     "metadata": {},
     "output_type": "execute_result"
    }
   ],
   "source": [
    "movies_data.head(3)"
   ]
  },
  {
   "cell_type": "code",
   "execution_count": 54,
   "metadata": {},
   "outputs": [
    {
     "name": "stdout",
     "output_type": "stream",
     "text": [
      "6.092171559442016\n"
     ]
    }
   ],
   "source": [
    "c=movies_data['vote_average'].mean()\n",
    "print(c)"
   ]
  },
  {
   "cell_type": "code",
   "execution_count": 66,
   "metadata": {},
   "outputs": [
    {
     "ename": "IndentationError",
     "evalue": "unexpected indent (<ipython-input-66-cf2483965a75>, line 4)",
     "output_type": "error",
     "traceback": [
      "\u001b[1;36m  File \u001b[1;32m\"<ipython-input-66-cf2483965a75>\"\u001b[1;36m, line \u001b[1;32m4\u001b[0m\n\u001b[1;33m    i=0\u001b[0m\n\u001b[1;37m    ^\u001b[0m\n\u001b[1;31mIndentationError\u001b[0m\u001b[1;31m:\u001b[0m unexpected indent\n"
     ]
    }
   ],
   "source": [
    " x=list(sorted_similar_movies)\n",
    " print(x)\n",
    "\n",
    "    \n",
    "    \n",
    "    i=0\n",
    "    for i in sorted_similar_movies:\n",
    "     i= i+1\n",
    "     i>5\n",
    "     print get_title_from _index\n",
    "\n"
   ]
  },
  {
   "cell_type": "code",
   "execution_count": 67,
   "metadata": {},
   "outputs": [
    {
     "name": "stdout",
     "output_type": "stream",
     "text": [
      "1838.4000000000015\n"
     ]
    }
   ],
   "source": [
    "m = movies_data['vote_count'].quantile(0.90)\n",
    "print(m)"
   ]
  },
  {
   "cell_type": "code",
   "execution_count": 77,
   "metadata": {},
   "outputs": [],
   "source": [
    "def weighted_rating(y, m=m, c=c):\n",
    "    v = y['vote_count']\n",
    "    R = y['vote_average']\n",
    "    # Calculation based on the IMDB formula\n",
    "    return (v/(v+m) * R) + (m/(m+v) * c)"
   ]
  },
  {
   "cell_type": "code",
   "execution_count": 72,
   "metadata": {},
   "outputs": [
    {
     "data": {
      "text/plain": [
       "(481, 24)"
      ]
     },
     "execution_count": 72,
     "metadata": {},
     "output_type": "execute_result"
    }
   ],
   "source": [
    "q_movies = movies_data.copy().loc[movies_data['vote_count']>=m]\n",
    "q_movies.shape"
   ]
  },
  {
   "cell_type": "code",
   "execution_count": 78,
   "metadata": {},
   "outputs": [],
   "source": [
    "q_movies['score'] = q_movies.apply(weighted_rating, axis=1)"
   ]
  },
  {
   "cell_type": "code",
   "execution_count": 81,
   "metadata": {},
   "outputs": [
    {
     "data": {
      "text/html": [
       "<div>\n",
       "<style scoped>\n",
       "    .dataframe tbody tr th:only-of-type {\n",
       "        vertical-align: middle;\n",
       "    }\n",
       "\n",
       "    .dataframe tbody tr th {\n",
       "        vertical-align: top;\n",
       "    }\n",
       "\n",
       "    .dataframe thead th {\n",
       "        text-align: right;\n",
       "    }\n",
       "</style>\n",
       "<table border=\"1\" class=\"dataframe\">\n",
       "  <thead>\n",
       "    <tr style=\"text-align: right;\">\n",
       "      <th></th>\n",
       "      <th>title</th>\n",
       "      <th>vote_count</th>\n",
       "      <th>vote_average</th>\n",
       "      <th>score</th>\n",
       "    </tr>\n",
       "    <tr>\n",
       "      <th>popularity</th>\n",
       "      <th></th>\n",
       "      <th></th>\n",
       "      <th></th>\n",
       "      <th></th>\n",
       "    </tr>\n",
       "  </thead>\n",
       "  <tbody>\n",
       "    <tr>\n",
       "      <th>136.747729</th>\n",
       "      <td>The Shawshank Redemption</td>\n",
       "      <td>8205</td>\n",
       "      <td>8.5</td>\n",
       "      <td>8.059258</td>\n",
       "    </tr>\n",
       "    <tr>\n",
       "      <th>146.757391</th>\n",
       "      <td>Fight Club</td>\n",
       "      <td>9413</td>\n",
       "      <td>8.3</td>\n",
       "      <td>7.939256</td>\n",
       "    </tr>\n",
       "    <tr>\n",
       "      <th>187.322927</th>\n",
       "      <td>The Dark Knight</td>\n",
       "      <td>12002</td>\n",
       "      <td>8.2</td>\n",
       "      <td>7.920020</td>\n",
       "    </tr>\n",
       "    <tr>\n",
       "      <th>121.463076</th>\n",
       "      <td>Pulp Fiction</td>\n",
       "      <td>8428</td>\n",
       "      <td>8.3</td>\n",
       "      <td>7.904645</td>\n",
       "    </tr>\n",
       "    <tr>\n",
       "      <th>167.583710</th>\n",
       "      <td>Inception</td>\n",
       "      <td>13752</td>\n",
       "      <td>8.1</td>\n",
       "      <td>7.863239</td>\n",
       "    </tr>\n",
       "    <tr>\n",
       "      <th>143.659698</th>\n",
       "      <td>The Godfather</td>\n",
       "      <td>5893</td>\n",
       "      <td>8.4</td>\n",
       "      <td>7.851236</td>\n",
       "    </tr>\n",
       "    <tr>\n",
       "      <th>724.247784</th>\n",
       "      <td>Interstellar</td>\n",
       "      <td>10867</td>\n",
       "      <td>8.1</td>\n",
       "      <td>7.809479</td>\n",
       "    </tr>\n",
       "    <tr>\n",
       "      <th>138.133331</th>\n",
       "      <td>Forrest Gump</td>\n",
       "      <td>7927</td>\n",
       "      <td>8.2</td>\n",
       "      <td>7.803188</td>\n",
       "    </tr>\n",
       "    <tr>\n",
       "      <th>123.630332</th>\n",
       "      <td>The Lord of the Rings: The Return of the King</td>\n",
       "      <td>8064</td>\n",
       "      <td>8.1</td>\n",
       "      <td>7.727243</td>\n",
       "    </tr>\n",
       "    <tr>\n",
       "      <th>78.517830</th>\n",
       "      <td>The Empire Strikes Back</td>\n",
       "      <td>5879</td>\n",
       "      <td>8.2</td>\n",
       "      <td>7.697884</td>\n",
       "    </tr>\n",
       "  </tbody>\n",
       "</table>\n",
       "</div>"
      ],
      "text/plain": [
       "                                                    title  vote_count  \\\n",
       "popularity                                                              \n",
       "136.747729                       The Shawshank Redemption        8205   \n",
       "146.757391                                     Fight Club        9413   \n",
       "187.322927                                The Dark Knight       12002   \n",
       "121.463076                                   Pulp Fiction        8428   \n",
       "167.583710                                      Inception       13752   \n",
       "143.659698                                  The Godfather        5893   \n",
       "724.247784                                   Interstellar       10867   \n",
       "138.133331                                   Forrest Gump        7927   \n",
       "123.630332  The Lord of the Rings: The Return of the King        8064   \n",
       "78.517830                         The Empire Strikes Back        5879   \n",
       "\n",
       "            vote_average     score  \n",
       "popularity                          \n",
       "136.747729           8.5  8.059258  \n",
       "146.757391           8.3  7.939256  \n",
       "187.322927           8.2  7.920020  \n",
       "121.463076           8.3  7.904645  \n",
       "167.583710           8.1  7.863239  \n",
       "143.659698           8.4  7.851236  \n",
       "724.247784           8.1  7.809479  \n",
       "138.133331           8.2  7.803188  \n",
       "123.630332           8.1  7.727243  \n",
       "78.517830            8.2  7.697884  "
      ]
     },
     "execution_count": 81,
     "metadata": {},
     "output_type": "execute_result"
    }
   ],
   "source": [
    "q_movies = q_movies.sort_values('score', ascending=False)\n",
    "\n",
    "q_movies[['title', 'vote_count', 'vote_average', 'score']].head(10)"
   ]
  },
  {
   "cell_type": "code",
   "execution_count": 13,
   "metadata": {},
   "outputs": [
    {
     "ename": "NameError",
     "evalue": "name 'sort_values' is not defined",
     "output_type": "error",
     "traceback": [
      "\u001b[1;31m---------------------------------------------------------------------------\u001b[0m",
      "\u001b[1;31mNameError\u001b[0m                                 Traceback (most recent call last)",
      "\u001b[1;32m<ipython-input-13-0962c63b9ad3>\u001b[0m in \u001b[0;36m<module>\u001b[1;34m\u001b[0m\n\u001b[0;32m      1\u001b[0m \u001b[0mmovies_data\u001b[0m\u001b[1;33m.\u001b[0m\u001b[0mgenres\u001b[0m \u001b[1;33m=\u001b[0m \u001b[0mmovies_data\u001b[0m\u001b[1;33m.\u001b[0m\u001b[0mgenres\u001b[0m\u001b[1;33m.\u001b[0m\u001b[0mstr\u001b[0m\u001b[1;33m.\u001b[0m\u001b[0msplit\u001b[0m\u001b[1;33m(\u001b[0m\u001b[1;34m'|'\u001b[0m\u001b[1;33m)\u001b[0m\u001b[1;33m\u001b[0m\u001b[0m\n\u001b[1;32m----> 2\u001b[1;33m \u001b[0mmovies_data\u001b[0m \u001b[1;33m=\u001b[0m \u001b[0msort_values\u001b[0m\u001b[1;33m(\u001b[0m\u001b[0mmovies_data\u001b[0m\u001b[1;33m,\u001b[0m \u001b[1;33m[\u001b[0m\u001b[1;34m'genres'\u001b[0m\u001b[1;33m]\u001b[0m\u001b[1;33m)\u001b[0m\u001b[1;33m\u001b[0m\u001b[0m\n\u001b[0m\u001b[0;32m      3\u001b[0m \u001b[0mmovies_data\u001b[0m\u001b[1;33m.\u001b[0m\u001b[0mhead\u001b[0m\u001b[1;33m(\u001b[0m\u001b[1;36m5\u001b[0m\u001b[1;33m)\u001b[0m\u001b[1;33m\u001b[0m\u001b[0m\n",
      "\u001b[1;31mNameError\u001b[0m: name 'sort_values' is not defined"
     ]
    }
   ],
   "source": [
    "movie = sort_values(movies_data, ['genres'])\n",
    "movies_data.head(5)"
   ]
  },
  {
   "cell_type": "code",
   "execution_count": 16,
   "metadata": {},
   "outputs": [],
   "source": [
    "mov_filepath=(\"G:\\links_small.csv\")\n",
    "mov_data=pd.read_csv(mov_filepath)"
   ]
  },
  {
   "cell_type": "code",
   "execution_count": 18,
   "metadata": {},
   "outputs": [],
   "source": [
    "mov_data =mov_data[mov_data['tmdbId'].notnull()]['tmdbId'].astype('int')"
   ]
  },
  {
   "cell_type": "code",
   "execution_count": 51,
   "metadata": {},
   "outputs": [],
   "source": [
    "def get_recommendations (title):\n",
    "    idx = indices[title]\n",
    "    sim_scores = list(enumerate(cosine_sim[idx]))\n",
    "    sim_scores = sorted(sim_scores, key=lambda x: x[1], reverse=True)\n",
    "    sim_scores = sim_scores[1:31]\n",
    "    movie_indices = [i[0] for i in sim_scores]\n",
    "    return titles.iloc[movie_indices]"
   ]
  },
  {
   "cell_type": "code",
   "execution_count": 52,
   "metadata": {},
   "outputs": [
    {
     "ename": "NameError",
     "evalue": "name 'idx' is not defined",
     "output_type": "error",
     "traceback": [
      "\u001b[1;31m---------------------------------------------------------------------------\u001b[0m",
      "\u001b[1;31mNameError\u001b[0m                                 Traceback (most recent call last)",
      "\u001b[1;32m<ipython-input-52-9d8536beb84b>\u001b[0m in \u001b[0;36m<module>\u001b[1;34m\u001b[0m\n\u001b[1;32m----> 1\u001b[1;33m \u001b[0mget_recommendations\u001b[0m\u001b[1;33m(\u001b[0m\u001b[1;34m'The Godfather'\u001b[0m\u001b[1;33m)\u001b[0m\u001b[1;33m.\u001b[0m\u001b[0mhead\u001b[0m\u001b[1;33m(\u001b[0m\u001b[1;36m10\u001b[0m\u001b[1;33m)\u001b[0m\u001b[1;33m\u001b[0m\u001b[0m\n\u001b[0m",
      "\u001b[1;32m<ipython-input-51-4425d3f7ad93>\u001b[0m in \u001b[0;36mget_recommendations\u001b[1;34m(title)\u001b[0m\n\u001b[0;32m      1\u001b[0m \u001b[1;32mdef\u001b[0m \u001b[0mget_recommendations\u001b[0m \u001b[1;33m(\u001b[0m\u001b[0mtitle\u001b[0m\u001b[1;33m)\u001b[0m\u001b[1;33m:\u001b[0m\u001b[1;33m\u001b[0m\u001b[0m\n\u001b[1;32m----> 2\u001b[1;33m     \u001b[0msim_scores\u001b[0m \u001b[1;33m=\u001b[0m \u001b[0mlist\u001b[0m\u001b[1;33m(\u001b[0m\u001b[0menumerate\u001b[0m\u001b[1;33m(\u001b[0m\u001b[0mcosine_sim\u001b[0m\u001b[1;33m[\u001b[0m\u001b[0midx\u001b[0m\u001b[1;33m]\u001b[0m\u001b[1;33m)\u001b[0m\u001b[1;33m)\u001b[0m\u001b[1;33m\u001b[0m\u001b[0m\n\u001b[0m\u001b[0;32m      3\u001b[0m     \u001b[0msim_scores\u001b[0m \u001b[1;33m=\u001b[0m \u001b[0msorted\u001b[0m\u001b[1;33m(\u001b[0m\u001b[0msim_scores\u001b[0m\u001b[1;33m,\u001b[0m \u001b[0mkey\u001b[0m\u001b[1;33m=\u001b[0m\u001b[1;32mlambda\u001b[0m \u001b[0mx\u001b[0m\u001b[1;33m:\u001b[0m \u001b[0mx\u001b[0m\u001b[1;33m[\u001b[0m\u001b[1;36m1\u001b[0m\u001b[1;33m]\u001b[0m\u001b[1;33m,\u001b[0m \u001b[0mreverse\u001b[0m\u001b[1;33m=\u001b[0m\u001b[1;32mTrue\u001b[0m\u001b[1;33m)\u001b[0m\u001b[1;33m\u001b[0m\u001b[0m\n\u001b[0;32m      4\u001b[0m     \u001b[0msim_scores\u001b[0m \u001b[1;33m=\u001b[0m \u001b[0msim_scores\u001b[0m\u001b[1;33m[\u001b[0m\u001b[1;36m1\u001b[0m\u001b[1;33m:\u001b[0m\u001b[1;36m31\u001b[0m\u001b[1;33m]\u001b[0m\u001b[1;33m\u001b[0m\u001b[0m\n\u001b[0;32m      5\u001b[0m     \u001b[0mmovie_indices\u001b[0m \u001b[1;33m=\u001b[0m \u001b[1;33m[\u001b[0m\u001b[0mi\u001b[0m\u001b[1;33m[\u001b[0m\u001b[1;36m0\u001b[0m\u001b[1;33m]\u001b[0m \u001b[1;32mfor\u001b[0m \u001b[0mi\u001b[0m \u001b[1;32min\u001b[0m \u001b[0msim_scores\u001b[0m\u001b[1;33m]\u001b[0m\u001b[1;33m\u001b[0m\u001b[0m\n",
      "\u001b[1;31mNameError\u001b[0m: name 'idx' is not defined"
     ]
    }
   ],
   "source": [
    "get_recommendations('The Godfather').head(10)"
   ]
  },
  {
   "cell_type": "code",
   "execution_count": null,
   "metadata": {},
   "outputs": [],
   "source": []
  }
 ],
 "metadata": {
  "kernelspec": {
   "display_name": "Python 3",
   "language": "python",
   "name": "python3"
  },
  "language_info": {
   "codemirror_mode": {
    "name": "ipython",
    "version": 3
   },
   "file_extension": ".py",
   "mimetype": "text/x-python",
   "name": "python",
   "nbconvert_exporter": "python",
   "pygments_lexer": "ipython3",
   "version": "3.6.4"
  }
 },
 "nbformat": 4,
 "nbformat_minor": 2
}
